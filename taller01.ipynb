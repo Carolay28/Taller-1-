{
 "cells": [
  {
   "cell_type": "markdown",
   "id": "d6756d4a",
   "metadata": {},
   "source": [
    "## Taller 01\n",
    "\n",
    "Carolay Pillajo"
   ]
  },
  {
   "cell_type": "markdown",
   "id": "587f04f6",
   "metadata": {},
   "source": [
    "#### EJERCICIO 1"
   ]
  },
  {
   "cell_type": "markdown",
   "id": "3733b6a9",
   "metadata": {},
   "source": [
    "Algoritmo 1: La sumatoria de $ 1 + 1/2 + 1/4 + 1/8 ... $ tal que el valor absoluto de $e_{abs} < 10^{-1}$ "
   ]
  },
  {
   "cell_type": "code",
   "execution_count": null,
   "id": "fb508f32",
   "metadata": {},
   "outputs": [
    {
     "name": "stdout",
     "output_type": "stream",
     "text": [
      "Iteración 1: SUM = 1.0000, error_abs = 1.0000\n",
      "Iteración 2: SUM = 1.5000, error_abs = 0.5000\n",
      "Iteración 3: SUM = 1.7500, error_abs = 0.2500\n",
      "Iteración 4: SUM = 1.8750, error_abs = 0.1250\n",
      "Iteración 5: SUM = 1.9375, error_abs = 0.0625\n",
      "\n",
      "Resultado final:\n",
      "SUM = 1.9375, error_abs = 0.0625, iteraciones = 5\n"
     ]
    }
   ],
   "source": [
    "#Algoritmo 1 del Taller\n",
    "SUM = 0\n",
    "tolerancia = 0.1\n",
    "i = 0\n",
    "valor_real = 2\n",
    "error_abs = abs(valor_real - SUM)  \n",
    "\n",
    "while error_abs >= tolerancia:\n",
    "    SUM += 1 / (2 ** i)\n",
    "    i += 1\n",
    "    error_abs = abs(valor_real - SUM)\n",
    "    print(f\"Iteración {i}: SUM = {SUM:.4f}, error_abs = {error_abs:.4f}\")\n",
    "\n",
    "print(\"\\nResultado final:\")\n",
    "print(f\"SUM = {SUM:.4f}, error_abs = {error_abs:.4f}, iteraciones = {i}\")\n"
   ]
  },
  {
   "cell_type": "markdown",
   "id": "345a385b",
   "metadata": {},
   "source": [
    "### EJERCICIO 2\n"
   ]
  },
  {
   "cell_type": "markdown",
   "id": "3955908c",
   "metadata": {},
   "source": [
    "Algoritmo 2: ordenar los elementos del vector $v_1 = [ 3, 2, 5, 8, 4, 1]$ de manera ascendente"
   ]
  },
  {
   "cell_type": "code",
   "execution_count": null,
   "id": "6c55ad7b",
   "metadata": {},
   "outputs": [
    {
     "name": "stdout",
     "output_type": "stream",
     "text": [
      "[2, 3, 5, 4, 1, 8]\n",
      "[2, 3, 4, 1, 5, 8]\n",
      "[2, 3, 1, 4, 5, 8]\n",
      "[2, 1, 3, 4, 5, 8]\n",
      "[1, 2, 3, 4, 5, 8]\n",
      "[1, 2, 3, 4, 5, 8]\n",
      "Vector final: [1, 2, 3, 4, 5, 8]\n"
     ]
    }
   ],
   "source": [
    "#Algoritmo 2 del Taller\n",
    "v1 = [3, 2, 5, 8, 4, 1]\n",
    "\n",
    "def ordenamiento(v1):\n",
    "\n",
    "    for i in range(len(v1)):          \n",
    "        swapped = False\n",
    "        for j in range(1, len(v1) - i):\n",
    "            if v1[j] < v1[j - 1]:\n",
    "                v1[j], v1[j - 1] = v1[j - 1], v1[j]\n",
    "                swapped = True\n",
    "        print(f\"{v1}\")\n",
    "        if not swapped:\n",
    "            break\n",
    "    return v1\n",
    "\n",
    "print(\"Vector final:\", ordenamiento(v1))"
   ]
  },
  {
   "cell_type": "markdown",
   "id": "cb8f376a",
   "metadata": {},
   "source": [
    "CASOS DE PRUEBA:\n",
    "- $v_2 = [ 1, 0, 4, 5, 6, 7]$\n",
    " - $v_3 =$ 100_000 números aleatorios entre -200 y 145"
   ]
  },
  {
   "cell_type": "markdown",
   "id": "98e42658",
   "metadata": {},
   "source": [
    "###### CASO DE PRUEBA 1:\n"
   ]
  },
  {
   "cell_type": "code",
   "execution_count": null,
   "id": "4443943c",
   "metadata": {},
   "outputs": [],
   "source": [
    "#Algoritmo 2 del Taller - Caso prueba 1\n",
    "v2 = [1, 0, 4, 5, 6, 7]\n",
    "\n",
    "def ordenamiento(v2):\n",
    "\n",
    "    for i in range(len(v2)):          \n",
    "        swapped = False\n",
    "        for j in range(1, len(v2) - i):\n",
    "            if v2[j] < v2[j - 1]:\n",
    "                v2[j], v2[j - 1] = v2[j - 1], v2[j]\n",
    "                swapped = True\n",
    "        print(f\"{v2}\")\n",
    "        if not swapped:\n",
    "            break\n",
    "    return v2\n",
    "\n",
    "print(\"Vector final:\", ordenamiento(v2))"
   ]
  },
  {
   "cell_type": "markdown",
   "id": "09f7ae54",
   "metadata": {},
   "source": [
    "###### CASO DE PRUEBA 2:\n"
   ]
  },
  {
   "cell_type": "code",
   "execution_count": null,
   "id": "061497d0",
   "metadata": {},
   "outputs": [],
   "source": [
    "#Algoritmo 2 del Taller - Caso prueba 2\n",
    "import random\n",
    "\n",
    "v3 = [random.randint(-200, 145) for _ in range(100_000)]\n",
    "\n",
    "def ordenamiento(v3):\n",
    "\n",
    "    for i in range(len(v3)):          \n",
    "        swapped = False\n",
    "        for j in range(1, len(v3) - i):\n",
    "            if v3[j] < v3[j - 1]:\n",
    "                v3[j], v3[j - 1] = v3[j - 1], v3[j]\n",
    "                swapped = True\n",
    "        print(f\"{v3}\")\n",
    "        if not swapped:\n",
    "            break\n",
    "    return v3\n",
    "\n",
    "print(\"Vector final:\", ordenamiento(v3))"
   ]
  },
  {
   "cell_type": "markdown",
   "id": "2ec7d4ce",
   "metadata": {},
   "source": [
    "###### PREGUNTA ADICIONAL: Modifique el algoritmo 2 y determine la cantidad de comparaciones realizadas al oredenar la serie 5, 4, 3, 2, 1\n"
   ]
  },
  {
   "cell_type": "code",
   "execution_count": null,
   "id": "a997d40f",
   "metadata": {},
   "outputs": [
    {
     "name": "stdout",
     "output_type": "stream",
     "text": [
      "Iteración 1: [4, 3, 2, 1, 5]\n",
      "Iteración 2: [3, 2, 1, 4, 5]\n",
      "Iteración 3: [2, 1, 3, 4, 5]\n",
      "Iteración 4: [1, 2, 3, 4, 5]\n",
      "Iteración 5: [1, 2, 3, 4, 5]\n",
      "\n",
      "Cantidad total de comparaciones: 10\n",
      "Vector final: [1, 2, 3, 4, 5]\n"
     ]
    }
   ],
   "source": [
    "# Algoritmo 2 Pregunta adicional\n",
    "v4 = [5, 4, 3, 2, 1]\n",
    "\n",
    "def ordenamiento(v4):\n",
    "    comparaciones = 0  \n",
    "\n",
    "    for i in range(len(v4)):\n",
    "        swapped = False\n",
    "        for j in range(1, len(v4) - i):\n",
    "            comparaciones += 1 \n",
    "            if v4[j] < v4[j - 1]:\n",
    "                v4[j], v4[j - 1] = v4[j - 1], v4[j]\n",
    "                swapped = True\n",
    "        print(f\"Iteración {i+1}: {v4}\")\n",
    "        if not swapped:\n",
    "            break\n",
    "\n",
    "    print(f\"\\nCantidad total de comparaciones: {comparaciones}\")\n",
    "    return v4\n",
    "\n",
    "print(\"Vector final:\", ordenamiento(v4))"
   ]
  },
  {
   "cell_type": "markdown",
   "id": "3b8104a8",
   "metadata": {},
   "source": [
    "### EJERCICIO 3\n"
   ]
  },
  {
   "cell_type": "markdown",
   "id": "e07860fd",
   "metadata": {},
   "source": [
    "Serie de Fibonacci"
   ]
  },
  {
   "cell_type": "code",
   "execution_count": 5,
   "id": "05afda3a",
   "metadata": {},
   "outputs": [
    {
     "name": "stdout",
     "output_type": "stream",
     "text": [
      "Serie de Fibonacci:\n",
      "0 1 1 2 3 5 8 13 21 34 55 89 144 233 377 610 987 1597 2584 4181 6765 10946 17711 "
     ]
    }
   ],
   "source": [
    "n = int(input(\"Ingrese el número de términos de la serie de Fibonacci: \"))\n",
    "\n",
    "x = 0\n",
    "y = 1\n",
    "\n",
    "print(\"Serie de Fibonacci:\")\n",
    "print(x, end=\" \")\n",
    "\n",
    "for i in range(1, n):\n",
    "    z = x + y\n",
    "    print(y, end=\" \")\n",
    "    x = y\n",
    "    y = z"
   ]
  },
  {
   "cell_type": "markdown",
   "id": "551069c8",
   "metadata": {},
   "source": [
    "##### PREGUNTA ADICIONAL: "
   ]
  },
  {
   "cell_type": "markdown",
   "id": "341df4dc",
   "metadata": {},
   "source": [
    "Usando el algoritmo 03 y la aritmetica de redondeo con 3 cifras, determine la interación desde la cual el error relativo de  $\\frac { Y_i -1}{Y_i} (i > 0)$ con respecto a $\\frac {1 + \\sqrt{5}}{2}$ está dentro de $10^{-5}$"
   ]
  },
  {
   "cell_type": "code",
   "execution_count": 10,
   "id": "36e78c1d",
   "metadata": {},
   "outputs": [
    {
     "name": "stdout",
     "output_type": "stream",
     "text": [
      "\n",
      "Serie de Fibonacci:\n",
      "\n",
      "Iteración 2:\n",
      "  Yi = 1.0\n",
      "  (Yi - 1)/Yi = 0.0\n",
      "  Error relativo = 1.000\n",
      "\n",
      "Iteración 3:\n",
      "  Yi = 1.0\n",
      "  (Yi - 1)/Yi = 0.5\n",
      "  Error relativo = 0.691\n",
      "\n",
      "No se alcanzó un error menor a 1e-5 con redondeo a 3 cifras.\n"
     ]
    }
   ],
   "source": [
    "import math\n",
    "\n",
    "def redondear3(x):\n",
    "    if x == 0:\n",
    "        return 0.0\n",
    "    else:\n",
    "        return round(x, -int(math.floor(math.log10(abs(x)))) + 2)\n",
    "\n",
    "phi = (1 + math.sqrt(5)) / 2\n",
    "\n",
    "n = int(input(\"Ingrese el número de términos de la serie de Fibonacci: \"))\n",
    "\n",
    "x = 0\n",
    "y = 1\n",
    "\n",
    "print(\"\\nSerie de Fibonacci:\\n\")\n",
    "\n",
    "for i in range(1, n):\n",
    "    z = redondear3(x + y)\n",
    "\n",
    "    if x != 0:\n",
    "        Yi = redondear3(y / x)\n",
    "        expr = redondear3((Yi - 1) / Yi)\n",
    "        error_rel = abs(expr - phi) / phi\n",
    "\n",
    "        print(f\"Iteración {i}:\")\n",
    "        print(f\"  Yi = {Y_i}\")\n",
    "        print(f\"  (Yi - 1)/Yi = {expr}\")\n",
    "        print(f\"  Error relativo = {error_rel:.3f}\\n\")\n",
    "\n",
    "        if error_rel < 1e-5:\n",
    "            print(f\"El error relativo está dentro de 1e-5 desde la iteración {i}.\")\n",
    "            break\n",
    "\n",
    "    x = y\n",
    "    y = z\n",
    "else:\n",
    "    print(\"No se alcanzó un error menor a 1e-5 con redondeo a 3 cifras.\")\n"
   ]
  },
  {
   "cell_type": "markdown",
   "id": "f3f0f1d0",
   "metadata": {},
   "source": [
    "### EJERCICIO 4"
   ]
  },
  {
   "cell_type": "markdown",
   "id": "5bb92ecb",
   "metadata": {},
   "source": [
    "Graficar: El valor de la serie $fib(n)$"
   ]
  },
  {
   "cell_type": "code",
   "execution_count": null,
   "id": "873ee853",
   "metadata": {},
   "outputs": [],
   "source": [
    "import matplotlib.pyplot as plt\n",
    "\n",
    "n = int(input(\"Ingrese el número de términos de la serie de Fibonacci: \"))\n",
    "\n",
    "fib = [0, 1]\n",
    "\n",
    "for i in range(2, n):\n",
    "    fib.append(fib[i-1] + fib[i-2])\n",
    "\n",
    "razones = [fib[i] / fib[i-1] for i in range(2, n)]\n",
    "\n",
    "plt.figure(figsize=(8,5))\n",
    "plt.plot(range(2, n), razones, marker='o', label='fib(n)/fib(n-1)')\n",
    "plt.axhline((1 + 5 ** 0.5) / 2, color='r', linestyle='--', label='Número áureo φ')\n",
    "plt.xlabel('n')\n",
    "plt.ylabel('fib(n)/fib(n-1)')\n",
    "plt.title('Aproximación de fib(n)/fib(n-1) al número áureo')\n",
    "plt.legend()\n",
    "plt.grid(True)\n",
    "plt.show()"
   ]
  },
  {
   "cell_type": "markdown",
   "id": "2c873db8",
   "metadata": {},
   "source": [
    "GRAFICAR: El valor de cociente"
   ]
  },
  {
   "cell_type": "code",
   "execution_count": null,
   "id": "d4f72d4e",
   "metadata": {},
   "outputs": [],
   "source": [
    "import matplotlib.pyplot as plt\n",
    "\n",
    "n = int(input(\"Ingrese el número de términos de la serie de Fibonacci: \"))\n",
    "\n",
    "fib = [0, 1]\n",
    "for i in range(2, n):\n",
    "    fib.append(fib[i-1] + fib[i-2])\n",
    "\n",
    "razones = [fib[i]/fib[i-1] for i in range(2, n)]\n",
    "\n",
    "plt.plot(range(2, n), razones, marker='o')\n",
    "plt.axhline((1 + 5 ** 0.5) / 2, color='r', linestyle='--')\n",
    "plt.xlabel('n')\n",
    "plt.ylabel('fib(n)/fib(n-1)')\n",
    "plt.title('Aproximación de fib(n)/fib(n-1) al número áureo')\n",
    "plt.grid(True)\n",
    "plt.show()\n"
   ]
  }
 ],
 "metadata": {
  "kernelspec": {
   "display_name": "Python 3",
   "language": "python",
   "name": "python3"
  },
  "language_info": {
   "codemirror_mode": {
    "name": "ipython",
    "version": 3
   },
   "file_extension": ".py",
   "mimetype": "text/x-python",
   "name": "python",
   "nbconvert_exporter": "python",
   "pygments_lexer": "ipython3",
   "version": "3.12.7"
  }
 },
 "nbformat": 4,
 "nbformat_minor": 5
}

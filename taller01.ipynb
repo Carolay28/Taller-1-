{
 "cells": [
  {
   "cell_type": "markdown",
   "id": "d6756d4a",
   "metadata": {},
   "source": [
    "## Taller 01\n",
    "\n",
    "Carolay Pillajo"
   ]
  },
  {
   "cell_type": "markdown",
   "id": "587f04f6",
   "metadata": {},
   "source": [
    "#### EJERCICIO 1"
   ]
  },
  {
   "cell_type": "markdown",
   "id": "3733b6a9",
   "metadata": {},
   "source": [
    "Algoritmo 1: La sumatoria de $ 1 + 1/2 + 1/4 + 1/8 ... $ tal que el valor absoluto de $e_{abs} < 10^{-1}$ "
   ]
  },
  {
   "cell_type": "code",
   "execution_count": 2,
   "id": "fb508f32",
   "metadata": {},
   "outputs": [
    {
     "name": "stdout",
     "output_type": "stream",
     "text": [
      "Iteración 1: SUM = 1.0000, error_abs = 1.0000\n",
      "Iteración 2: SUM = 1.5000, error_abs = 0.5000\n",
      "Iteración 3: SUM = 1.7500, error_abs = 0.2500\n",
      "Iteración 4: SUM = 1.8750, error_abs = 0.1250\n",
      "Iteración 5: SUM = 1.9375, error_abs = 0.0625\n",
      "\n",
      "Resultado final:\n",
      "SUM = 1.9375, error_abs = 0.0625, iteraciones = 5\n"
     ]
    }
   ],
   "source": [
    "#Algoritmo 1 del Taller\n",
    "\n",
    "SUM = 0\n",
    "tolerancia = 0.1\n",
    "i = 0\n",
    "valor_real = 2\n",
    "error_abs = abs(valor_real - SUM)  \n",
    "\n",
    "while error_abs >= tolerancia:\n",
    "    SUM += 1 / (2 ** i)\n",
    "    i += 1\n",
    "    error_abs = abs(valor_real - SUM)\n",
    "    print(f\"Iteración {i}: SUM = {SUM:.4f}, error_abs = {error_abs:.4f}\")\n",
    "\n",
    "print(\"\\nResultado final:\")\n",
    "print(f\"SUM = {SUM:.4f}, error_abs = {error_abs:.4f}, iteraciones = {i}\")\n"
   ]
  },
  {
   "cell_type": "markdown",
   "id": "345a385b",
   "metadata": {},
   "source": [
    "### EJERCICIO 2\n"
   ]
  },
  {
   "cell_type": "markdown",
   "id": "3955908c",
   "metadata": {},
   "source": [
    "Algoritmo 2: ordenar los elementos del vector $v_1 = [ 3, 2, 5, 8, 4, 1]$ de manera ascendente"
   ]
  },
  {
   "cell_type": "code",
   "execution_count": 3,
   "id": "6c55ad7b",
   "metadata": {},
   "outputs": [
    {
     "name": "stdout",
     "output_type": "stream",
     "text": [
      "[2, 3, 5, 4, 1, 8]\n",
      "[2, 3, 4, 1, 5, 8]\n",
      "[2, 3, 1, 4, 5, 8]\n",
      "[2, 1, 3, 4, 5, 8]\n",
      "[1, 2, 3, 4, 5, 8]\n",
      "[1, 2, 3, 4, 5, 8]\n",
      "Vector final: [1, 2, 3, 4, 5, 8]\n"
     ]
    }
   ],
   "source": [
    "#Algoritmo 2 del Taller\n",
    "\n",
    "v1 = [3, 2, 5, 8, 4, 1]\n",
    "\n",
    "def ordenamiento(v1):\n",
    "\n",
    "    for i in range(len(v1)):          \n",
    "        swapped = False\n",
    "        for j in range(1, len(v1) - i):\n",
    "            if v1[j] < v1[j - 1]:\n",
    "                v1[j], v1[j - 1] = v1[j - 1], v1[j]\n",
    "                swapped = True\n",
    "        print(f\"{v1}\")\n",
    "        if not swapped:\n",
    "            break\n",
    "    return v1\n",
    "\n",
    "print(\"Vector final:\", ordenamiento(v1))"
   ]
  },
  {
   "cell_type": "markdown",
   "id": "cb8f376a",
   "metadata": {},
   "source": [
    "CASOS DE PRUEBA:\n",
    "- $v_2 = [ 1, 0, 4, 5, 6, 7]$\n",
    " - $v_3 =$ 100_000 números aleatorios entre -200 y 145"
   ]
  },
  {
   "cell_type": "markdown",
   "id": "98e42658",
   "metadata": {},
   "source": [
    "###### CASO DE PRUEBA 1:\n"
   ]
  },
  {
   "cell_type": "code",
   "execution_count": null,
   "id": "4443943c",
   "metadata": {},
   "outputs": [],
   "source": [
    "#Algoritmo 2 del Taller - Caso prueba 1\n",
    "\n",
    "v2 = [1, 0, 4, 5, 6, 7]\n",
    "\n",
    "def ordenamiento(v2):\n",
    "\n",
    "    for i in range(len(v2)):          \n",
    "        swapped = False\n",
    "        for j in range(1, len(v2) - i):\n",
    "            if v2[j] < v2[j - 1]:\n",
    "                v2[j], v2[j - 1] = v2[j - 1], v2[j]\n",
    "                swapped = True\n",
    "        print(f\"{v2}\")\n",
    "        if not swapped:\n",
    "            break\n",
    "    return v2\n",
    "\n",
    "print(\"Vector final:\", ordenamiento(v2))"
   ]
  },
  {
   "cell_type": "markdown",
   "id": "09f7ae54",
   "metadata": {},
   "source": [
    "###### CASO DE PRUEBA 2:\n"
   ]
  },
  {
   "cell_type": "code",
   "execution_count": null,
   "id": "061497d0",
   "metadata": {},
   "outputs": [],
   "source": [
    "#Algoritmo 2 del Taller - Caso prueba 2\n",
    "import random\n",
    "\n",
    "v3 = [random.randint(-200, 145) for _ in range(100_000)]\n",
    "\n",
    "def ordenamiento(v3):\n",
    "\n",
    "    for i in range(len(v3)):          \n",
    "        swapped = False\n",
    "        for j in range(1, len(v3) - i):\n",
    "            if v3[j] < v3[j - 1]:\n",
    "                v3[j], v3[j - 1] = v3[j - 1], v3[j]\n",
    "                swapped = True\n",
    "        print(f\"{v3}\")\n",
    "        if not swapped:\n",
    "            break\n",
    "    return v3\n",
    "\n",
    "print(\"Vector final:\", ordenamiento(v3))"
   ]
  },
  {
   "cell_type": "markdown",
   "id": "3b8104a8",
   "metadata": {},
   "source": [
    "### EJERCICIO 3\n"
   ]
  }
 ],
 "metadata": {
  "kernelspec": {
   "display_name": "Python 3",
   "language": "python",
   "name": "python3"
  },
  "language_info": {
   "codemirror_mode": {
    "name": "ipython",
    "version": 3
   },
   "file_extension": ".py",
   "mimetype": "text/x-python",
   "name": "python",
   "nbconvert_exporter": "python",
   "pygments_lexer": "ipython3",
   "version": "3.12.7"
  }
 },
 "nbformat": 4,
 "nbformat_minor": 5
}
